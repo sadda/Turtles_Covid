{
 "cells": [
  {
   "cell_type": "markdown",
   "metadata": {},
   "source": [
    "Click into the next code and press Ctrl+Enter to create the graph. Then use the slider to see the changes."
   ]
  },
  {
   "cell_type": "code",
   "execution_count": 53,
   "metadata": {},
   "outputs": [
    {
     "data": {
      "application/vnd.jupyter.widget-view+json": {
       "model_id": "ee274059f63c43d9b10e911ea7ce5a10",
       "version_major": 2,
       "version_minor": 0
      },
      "text/plain": [
       "interactive(children=(IntSlider(value=5, description='n_aggr', max=20, min=1), Output()), _dom_classes=('widge…"
      ]
     },
     "metadata": {},
     "output_type": "display_data"
    },
    {
     "data": {
      "text/plain": [
       "<function utilities.plot(x1, x2, n_aggr, return_fig=True)>"
      ]
     },
     "execution_count": 53,
     "metadata": {},
     "output_type": "execute_result"
    }
   ],
   "source": [
    "from utilities import *\n",
    "from ipywidgets import interact, fixed\n",
    "\n",
    "t, x1, x2 = generate_data()\n",
    "slider = generate_slider()\n",
    "interact(plot, x1=fixed(x1), x2=fixed(x2), n_aggr=slider, return_fig=fixed(False))\n"
   ]
  }
 ],
 "metadata": {
  "interpreter": {
   "hash": "dbeb9a3f8d3550cd62187319f560f680c2be241a530bbcc0135e6d432ea62fbc"
  },
  "kernelspec": {
   "display_name": "Python 3.8.8 ('base')",
   "language": "python",
   "name": "python3"
  },
  "language_info": {
   "codemirror_mode": {
    "name": "ipython",
    "version": 3
   },
   "file_extension": ".py",
   "mimetype": "text/x-python",
   "name": "python",
   "nbconvert_exporter": "python",
   "pygments_lexer": "ipython3",
   "version": "3.8.8"
  },
  "orig_nbformat": 4
 },
 "nbformat": 4,
 "nbformat_minor": 2
}
