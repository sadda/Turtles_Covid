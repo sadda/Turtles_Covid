{
 "cells": [
  {
   "cell_type": "markdown",
   "metadata": {},
   "source": [
    "Click into the next code and press Ctrl+Enter to create the graph. Then use the slider to see the changes."
   ]
  },
  {
   "cell_type": "code",
   "execution_count": null,
   "metadata": {},
   "outputs": [],
   "source": [
    "import os\n",
    "import pandas\n",
    "from utilities import *\n",
    "from ipywidgets import interact, fixed\n",
    "\n",
    "data = pandas.read_csv(os.path.join('data', 'aggregated1.csv'))\n",
    "instagram = pandas.read_csv(os.path.join('data', 'aggregated2.csv'))\n",
    "\n",
    "slider = generate_slider()\n",
    "\n",
    "year1 = 2019\n",
    "year2 = 2020\n",
    "place = None\n",
    "\n",
    "interact(plot_confidence, data=fixed(data), year1=fixed(year1), year2=fixed(year2), n_aggr=slider, instagram=fixed(instagram), place=fixed(place), return_fig=fixed(False))"
   ]
  }
 ],
 "metadata": {
  "interpreter": {
   "hash": "dbeb9a3f8d3550cd62187319f560f680c2be241a530bbcc0135e6d432ea62fbc"
  },
  "kernelspec": {
   "display_name": "Python 3.8.8 ('base')",
   "language": "python",
   "name": "python3"
  },
  "language_info": {
   "codemirror_mode": {
    "name": "ipython",
    "version": 3
   },
   "file_extension": ".py",
   "mimetype": "text/x-python",
   "name": "python",
   "nbconvert_exporter": "python",
   "pygments_lexer": "ipython3",
   "version": "3.8.8"
  },
  "orig_nbformat": 4
 },
 "nbformat": 4,
 "nbformat_minor": 2
}
