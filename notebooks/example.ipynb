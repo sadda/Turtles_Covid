{
 "cells": [
  {
   "cell_type": "markdown",
   "metadata": {},
   "source": [
    "Click into the next code and press Ctrl+Enter to create the graph. Then use the slider to see the changes."
   ]
  },
  {
   "cell_type": "code",
   "execution_count": null,
   "metadata": {},
   "outputs": [],
   "source": [
    "import sys\n",
    "sys.path.insert(0, '../src')\n",
    "\n",
    "import os\n",
    "import pandas\n",
    "import numpy as np\n",
    "from ipywidgets import interact\n",
    "from analysis import plot_confidence, plot_sd, plot_k\n",
    "from utilities import generate_slider\n",
    "\n",
    "data = pandas.read_csv(os.path.join('../data', 'aggregated1.csv'))\n",
    "instagram = pandas.read_csv(os.path.join('../data', 'aggregated2.csv'))\n",
    "\n",
    "year1 = 2019\n",
    "year2 = 2020\n",
    "place = None\n",
    "ignore_shorter = True\n",
    "box_shape = True\n",
    "plot_raw = False\n",
    "plot_arr = False\n",
    "\n",
    "slider = generate_slider(mode='int', value=5, min=1, max=20, step=1)\n",
    "fun = lambda n_aggr: plot_confidence(data, year1, year2, n_aggr, instagram, place=place, ignore_shorter=ignore_shorter, box_shape=box_shape, plot_raw=plot_raw, plot_arr=plot_arr)\n",
    "interact(fun, n_aggr=slider)"
   ]
  },
  {
   "cell_type": "code",
   "execution_count": null,
   "metadata": {},
   "outputs": [],
   "source": [
    "slider = generate_slider(mode='float', value=0.05, min=0.01, max=0.1, step=0.01)\n",
    "fun = lambda alpha: plot_sd(data, year1, year2, 30, instagram, month1=6, rat_max=10, alpha=alpha, ymax=5, title='Uncertainty parameter alpha = ' + str(alpha), return_fig=False)\n",
    "interact(fun, alpha=slider)"
   ]
  },
  {
   "cell_type": "code",
   "execution_count": null,
   "metadata": {},
   "outputs": [],
   "source": [
    "v1s = np.power(10, np.linspace(1,4,100))\n",
    "\n",
    "slider = generate_slider(mode='float', value=0.5, min=0.1, max=1., step=0.1)\n",
    "fun = lambda ratio: plot_k(v1s, v1s*ratio, 1e-4, 1e-4, ymin=0, ymax = 2, xscale='log', title='Ratio of detected viewing pressures = ' + str(ratio), return_fig=False)\n",
    "interact(fun, ratio=slider)\n"
   ]
  }
 ],
 "metadata": {
  "interpreter": {
   "hash": "dbeb9a3f8d3550cd62187319f560f680c2be241a530bbcc0135e6d432ea62fbc"
  },
  "kernelspec": {
   "display_name": "Python 3.8.8 ('base')",
   "language": "python",
   "name": "python3"
  },
  "language_info": {
   "codemirror_mode": {
    "name": "ipython",
    "version": 3
   },
   "file_extension": ".py",
   "mimetype": "text/x-python",
   "name": "python",
   "nbconvert_exporter": "python",
   "pygments_lexer": "ipython3",
   "version": "3.8.8"
  },
  "orig_nbformat": 4
 },
 "nbformat": 4,
 "nbformat_minor": 2
}
