{
 "cells": [
  {
   "cell_type": "markdown",
   "metadata": {},
   "source": [
    "Click into the next code and press Ctrl+Enter to create the graph. Then use the slider to see the changes."
   ]
  },
  {
   "cell_type": "code",
   "execution_count": null,
   "metadata": {},
   "outputs": [],
   "source": [
    "import sys\n",
    "sys.path.insert(0, '../src')\n",
    "\n",
    "import os\n",
    "import pandas\n",
    "from ipywidgets import interact\n",
    "from analysis import plot_confidence\n",
    "from utilities import generate_slider\n",
    "\n",
    "data = pandas.read_csv(os.path.join('../data', 'aggregated1.csv'))\n",
    "instagram = pandas.read_csv(os.path.join('../data', 'aggregated2.csv'))\n",
    "\n",
    "slider = generate_slider()\n",
    "\n",
    "year1 = 2019\n",
    "year2 = 2020\n",
    "place = None\n",
    "ignore_shorter = True\n",
    "box_shape = True\n",
    "\n",
    "plot_lambda = lambda n_aggr: plot_confidence(data, year1, year2, n_aggr, instagram, place=place, ignore_shorter=ignore_shorter, box_shape=box_shape)\n",
    "\n",
    "interact(plot_lambda, n_aggr=slider)"
   ]
  }
 ],
 "metadata": {
  "interpreter": {
   "hash": "dbeb9a3f8d3550cd62187319f560f680c2be241a530bbcc0135e6d432ea62fbc"
  },
  "kernelspec": {
   "display_name": "Python 3.8.8 ('base')",
   "language": "python",
   "name": "python3"
  },
  "language_info": {
   "codemirror_mode": {
    "name": "ipython",
    "version": 3
   },
   "file_extension": ".py",
   "mimetype": "text/x-python",
   "name": "python",
   "nbconvert_exporter": "python",
   "pygments_lexer": "ipython3",
   "version": "3.8.8"
  },
  "orig_nbformat": 4
 },
 "nbformat": 4,
 "nbformat_minor": 2
}
